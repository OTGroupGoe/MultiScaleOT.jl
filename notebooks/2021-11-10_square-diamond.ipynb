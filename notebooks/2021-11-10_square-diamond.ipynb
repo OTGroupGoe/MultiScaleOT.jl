{
 "cells": [
  {
   "cell_type": "code",
   "execution_count": null,
   "id": "6b5cde0f",
   "metadata": {},
   "outputs": [],
   "source": [
    "] up MultiScaleOT"
   ]
  },
  {
   "cell_type": "code",
   "execution_count": null,
   "id": "57e3908b",
   "metadata": {},
   "outputs": [],
   "source": [
    "using HDF5\n",
    "using Plots\n",
    "# Some plots defaults\n",
    "using MultiScaleOT\n",
    "default(legend = :none, aspect_ratio = :equal)\n",
    "using SparseArrays"
   ]
  },
  {
   "cell_type": "code",
   "execution_count": null,
   "id": "3c8ec26c",
   "metadata": {},
   "outputs": [],
   "source": [
    "# Load data\n",
    "img1, img2, shape1, shape2 = h5open(\"data/square_diamond.hdf5\", \"r\") do file\n",
    "    (\n",
    "        read(file, \"img1\"), read(file, \"img2\"), \n",
    "        read(file, \"shape1\"), read(file, \"shape2\")\n",
    "    )\n",
    "end\n",
    "\n",
    "plot(heatmap(img1), heatmap(img2), size = (600, 300))"
   ]
  },
  {
   "cell_type": "code",
   "execution_count": null,
   "id": "d6b0f3a2",
   "metadata": {},
   "outputs": [],
   "source": [
    "# Build measures:\n",
    "# Weights\n",
    "mu1 = img1[:] .+ 1e-8\n",
    "mu2 = img2[:] .+ 1e-8\n",
    "\n",
    "normalize!(mu1)\n",
    "normalize!(mu2)\n",
    "\n",
    "# Supporting points\n",
    "x1 = collect(1:128)\n",
    "X = flat_grid(x1, x1)\n",
    "Y = copy(X)\n",
    "\n",
    "# Gridshapes\n",
    "shapeX = size(img1)\n",
    "shapeY = size(img2)\n",
    "\n",
    "# Measure struct\n",
    "mu = GridMeasure(X, mu1, shapeX)\n",
    "nu = GridMeasure(Y, mu2, shapeY)"
   ]
  },
  {
   "cell_type": "code",
   "execution_count": null,
   "id": "1697b912",
   "metadata": {},
   "outputs": [],
   "source": [
    "# Prepare parameters for the solver and multiscale\n",
    "depth = compute_multiscale_depth(mu)\n",
    "\n",
    "c(x,y) = l22(x,y)\n",
    "\n",
    "# Epsilon schedule\n",
    "Nsteps = 3\n",
    "factor = 2.\n",
    "eps_target = 0.5\n",
    "last_iter = [eps_target/2]\n",
    "\n",
    "# Epsilon scaling\n",
    "eps_schedule = scaling_schedule(depth, eps_target, Nsteps, factor; last_iter = last_iter)\n",
    "\n",
    "layer_schedule = template_schedule(depth, Nsteps, collect(1:depth); last_iter = [depth])\n",
    "\n",
    "truncation = 1e-15\n",
    "\n",
    "params_schedule = make_schedule(\n",
    "                layer = layer_schedule,\n",
    "                epsilon = eps_schedule, \n",
    "                solver_truncation = truncation,\n",
    "                solver_max_error = 1e-4,\n",
    "                solver_verbose = true,\n",
    "                solver_max_iter = 10000\n",
    "        );"
   ]
  },
  {
   "cell_type": "code",
   "execution_count": null,
   "id": "15ecf771",
   "metadata": {},
   "outputs": [],
   "source": [
    "# Solve OT problem hierarchically\n",
    "# Note: second time running this code takes less time; \n",
    "# much of the first run is spent in precompilation.\n",
    "@time K, a, b, status = hierarchical_sinkhorn(mu, nu, c, params_schedule, 2)"
   ]
  },
  {
   "cell_type": "code",
   "execution_count": null,
   "id": "7422bc25",
   "metadata": {},
   "outputs": [],
   "source": [
    "# Visualize displacement interpolation\n",
    "# TODO: Quite hacky code right now\n",
    "function displacement_interpolation(P::SparseMatrixCSC, X, Y, shapeX, t)\n",
    "    (0 ≤ t ≤ 1) || erorr(\"t must be in [0,1]\")\n",
    "    # Z = Matrix{Float64}(undef, size(X, 1), length(P.nzval))\n",
    "    Z = zeros(shapeX...)\n",
    "    for j in 1:size(P, 2)\n",
    "        for r in P.colptr[j]:P.colptr[j+1]-1\n",
    "            i = P.rowval[r]\n",
    "            k1 = (1-t).*X[1,i] .+ t.*Y[1,j]\n",
    "            k2 = (1-t).*X[2,i] .+ t.*Y[2,j]\n",
    "            k1 = 2e-8 + (1-1e-8)*k1\n",
    "            k2 = 2e-8 + (1-1e-8)*k2\n",
    "            mass = P.nzval[r]\n",
    "            k1_base = Int(floor(k1))\n",
    "            k2_base = Int(floor(k2))\n",
    "            # The following offers a bit of antialiasing against just setting \n",
    "            # Z[k1_base, k2_base] +=mass\n",
    "            # though it is of course not perfect\n",
    "            offset1 = k1 - k1_base\n",
    "            offset2 = k2 - k2_base\n",
    "            \n",
    "            Z[k1_base, k2_base] += (1-offset1)*(1-offset2)*mass\n",
    "            Z[k1_base, k2_base+1] += (1-offset1)*(offset2)*mass\n",
    "            Z[k1_base+1, k2_base] += (offset1)*(1-offset2)*mass\n",
    "            Z[k1_base+1, k2_base+1] += (offset1)*(offset2)*mass\n",
    "        end\n",
    "    end\n",
    "    return Z\n",
    "end"
   ]
  },
  {
   "cell_type": "code",
   "execution_count": null,
   "id": "2f35cf86",
   "metadata": {},
   "outputs": [],
   "source": [
    "plots = []\n",
    "for t in 0:0.2:1\n",
    "    Z = displacement_interpolation(K, X, Y, shape1, t)\n",
    "    plot_i = heatmap(Z, axis = :off)\n",
    "    xticks!(Int[])\n",
    "    yticks!(Int[])\n",
    "    push!(plots, plot_i)\n",
    "end\n",
    "plot(plots..., layout = (1,6), size = (900,150))"
   ]
  },
  {
   "cell_type": "code",
   "execution_count": null,
   "id": "84908c06",
   "metadata": {},
   "outputs": [],
   "source": []
  }
 ],
 "metadata": {
  "jupytext": {
   "encoding": "# -*- coding: utf-8 -*-",
   "formats": "ipynb,jl:light"
  },
  "kernelspec": {
   "display_name": "Julia 1.6.3",
   "language": "julia",
   "name": "julia-1.6"
  },
  "language_info": {
   "file_extension": ".jl",
   "mimetype": "application/julia",
   "name": "julia",
   "version": "1.6.3"
  }
 },
 "nbformat": 4,
 "nbformat_minor": 5
}
